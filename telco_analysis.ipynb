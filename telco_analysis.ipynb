{
 "cells": [
  {
   "cell_type": "code",
   "execution_count": 33,
   "metadata": {},
   "outputs": [],
   "source": [
    "import pandas as pd\n",
    "import matplotlib.pyplot as plt\n",
    "import statistics\n",
    "telco_csv = pd.read_csv(\"telco.csv\")"
   ]
  },
  {
   "cell_type": "markdown",
   "metadata": {},
   "source": [
    "## Exploratory Data Analysis (EDA) - Descriptive Statistics\n",
    "\n",
    "*min, max, mean, median, mode, std. Dev.* \n",
    " - Age (churned & stayed)\n",
    " - Number of Dependents (churned & stayed)\n",
    " - Tenure in Months (churned & stayed)\n",
    " - Satisfaction Score (churned & stayed)\n",
    " - Churn Score (churned & stayed)\n",
    " - CLTV (churned & stayed)\n",
    "\n",
    "*mean, std. Dev.*\n",
    "- Population  (churned & stayed)\n",
    "\n",
    "*min, max, mean, median, std. Dev.*\n",
    "-   Avg Monthly Long Distance (churned & stayed)\n",
    "-   Avg Monthly GB Download (churned & stayed)\n",
    "-   Monthly Charge (churned & stayed)\n",
    "-   Total Charges (churned & stayed)\n",
    "-   Total Refunds (churned & stayed)\n",
    "-   Total Extra Data Charges (churned & stayed)\n",
    "-   Total Long Distance Charges (churned & stayed)\n",
    "-   Total Revenue (churned & stayed)\n"
   ]
  },
  {
   "cell_type": "code",
   "execution_count": 119,
   "metadata": {},
   "outputs": [],
   "source": [
    "# function to fetch descriptive stats abput selected column\n",
    "def d_stats(table_column):\n",
    "    return {'min': table_column.describe()['min'], \n",
    "            'max': table_column.describe()['max'], \n",
    "            'mean': table_column.describe()['mean'], \n",
    "            'median': statistics.median(table_column.sort_values()), \n",
    "            'mode': statistics.mode(table_column.sort_values()), \n",
    "            'std_dev': statistics.stdev(table_column.sort_values())\n",
    "            }\n",
    "\n",
    "def d_stats_two(table_column):\n",
    "    return {'mean': table_column.describe()['mean'], \n",
    "            'std_dev': statistics.stdev(table_column.sort_values())\n",
    "            }"
   ]
  },
  {
   "cell_type": "code",
   "execution_count": 92,
   "metadata": {},
   "outputs": [
    {
     "name": "stdout",
     "output_type": "stream",
     "text": [
      "{'min': 19.0, 'max': 80.0, 'mean': 45.58241525423729, 'median': 45.0, 'mode': 56, 'std_dev': 16.382506217076614}\n",
      "{'min': 19.0, 'max': 80.0, 'mean': 49.73568753344034, 'median': 50, 'mode': 44, 'std_dev': 17.604892582710615}\n"
     ]
    }
   ],
   "source": [
    "# Age (stayed & churned)\n",
    "print(d_stats(telco_csv['Age'].loc[telco_csv['Customer Status'] == 'Stayed']))\n",
    "print(d_stats(telco_csv['Age'].loc[telco_csv['Customer Status'] == 'Churned']))"
   ]
  },
  {
   "cell_type": "code",
   "execution_count": 93,
   "metadata": {},
   "outputs": [
    {
     "name": "stdout",
     "output_type": "stream",
     "text": [
      "{'min': 0.0, 'max': 9.0, 'mean': 0.6177966101694915, 'median': 0.0, 'mode': 0, 'std_dev': 1.057822362704371}\n",
      "{'min': 0.0, 'max': 7.0, 'mean': 0.11824505082932049, 'median': 0, 'mode': 0, 'std_dev': 0.5499016087613972}\n"
     ]
    }
   ],
   "source": [
    "# Number of Dependents (stayed & churned)\n",
    "print(d_stats(telco_csv['Number of Dependents'].loc[telco_csv['Customer Status'] == 'Stayed']))\n",
    "print(d_stats(telco_csv['Number of Dependents'].loc[telco_csv['Customer Status'] == 'Churned']))"
   ]
  },
  {
   "cell_type": "code",
   "execution_count": 94,
   "metadata": {},
   "outputs": [
    {
     "name": "stdout",
     "output_type": "stream",
     "text": [
      "{'min': 4.0, 'max': 72.0, 'mean': 41.041525423728814, 'median': 42.0, 'mode': 72, 'std_dev': 22.363673607607044}\n",
      "{'min': 1.0, 'max': 72.0, 'mean': 17.979133226324237, 'median': 10, 'mode': 1, 'std_dev': 19.53112305451955}\n"
     ]
    }
   ],
   "source": [
    "# Tenure in Months (stayed & churned)\n",
    "print(d_stats(telco_csv['Tenure in Months'].loc[telco_csv['Customer Status'] == 'Stayed']))\n",
    "print(d_stats(telco_csv['Tenure in Months'].loc[telco_csv['Customer Status'] == 'Churned']))"
   ]
  },
  {
   "cell_type": "code",
   "execution_count": 95,
   "metadata": {},
   "outputs": [
    {
     "name": "stdout",
     "output_type": "stream",
     "text": [
      "{'min': 3.0, 'max': 5.0, 'mean': 3.7722457627118646, 'median': 4.0, 'mode': 3, 'std_dev': 0.775521370323616}\n",
      "{'min': 1.0, 'max': 3.0, 'mean': 1.736222578919208, 'median': 2, 'mode': 1, 'std_dev': 0.8084662202176168}\n"
     ]
    }
   ],
   "source": [
    "# Satisfaction Score (stayed & churned)\n",
    "print(d_stats(telco_csv['Satisfaction Score'].loc[telco_csv['Customer Status'] == 'Stayed']))\n",
    "print(d_stats(telco_csv['Satisfaction Score'].loc[telco_csv['Customer Status'] == 'Churned']))"
   ]
  },
  {
   "cell_type": "code",
   "execution_count": 96,
   "metadata": {},
   "outputs": [
    {
     "name": "stdout",
     "output_type": "stream",
     "text": [
      "{'min': 5.0, 'max': 80.0, 'mean': 50.24745762711864, 'median': 51.0, 'mode': 43, 'std_dev': 17.720110737162493}\n",
      "{'min': 65.0, 'max': 96.0, 'mean': 81.77795612627074, 'median': 83, 'mode': 91, 'std_dev': 9.166869980652361}\n"
     ]
    }
   ],
   "source": [
    "# Churn Score (stayed & churned)\n",
    "print(d_stats(telco_csv['Churn Score'].loc[telco_csv['Customer Status'] == 'Stayed']))\n",
    "print(d_stats(telco_csv['Churn Score'].loc[telco_csv['Customer Status'] == 'Churned']))"
   ]
  },
  {
   "cell_type": "code",
   "execution_count": 99,
   "metadata": {},
   "outputs": [
    {
     "name": "stdout",
     "output_type": "stream",
     "text": [
      "{'min': 2003.0, 'max': 6500.0, 'mean': 4530.189194915254, 'median': 4666.0, 'mode': 5137, 'std_dev': 1158.2914676269152}\n",
      "{'min': 2003.0, 'max': 6484.0, 'mean': 4149.414660246121, 'median': 4238, 'mode': 3520, 'std_dev': 1189.3707074238444}\n"
     ]
    }
   ],
   "source": [
    "# CLTV (stayed & churned)\n",
    "print(d_stats(telco_csv['CLTV'].loc[telco_csv['Customer Status'] == 'Stayed']))\n",
    "print(d_stats(telco_csv['CLTV'].loc[telco_csv['Customer Status'] == 'Churned']))"
   ]
  },
  {
   "cell_type": "code",
   "execution_count": 98,
   "metadata": {},
   "outputs": [
    {
     "name": "stdout",
     "output_type": "stream",
     "text": [
      "{'mean': 21387.59745762712, 'std_dev': 21107.200517907415}\n",
      "{'mean': 21387.59745762712, 'std_dev': 21107.200517907415}\n"
     ]
    }
   ],
   "source": [
    "# Population (stayed & churned)\n",
    "print(d_stats_two(telco_csv['Population'].loc[telco_csv['Customer Status'] == 'Stayed']))\n",
    "print(d_stats_two(telco_csv['Population'].loc[telco_csv['Customer Status'] == 'Stayed']))"
   ]
  },
  {
   "cell_type": "code",
   "execution_count": 106,
   "metadata": {},
   "outputs": [
    {
     "name": "stdout",
     "output_type": "stream",
     "text": [
      "{'min': 0.0, 'max': 49.99, 'mean': 22.939591101694916, 'median': 22.95, 'mode': 0.0, 'std_dev': 15.490658538353358}\n",
      "{'min': 0.0, 'max': 49.98, 'mean': 23.167635098983414, 'median': 22.88, 'mode': 0.0, 'std_dev': 15.40946366429993}\n"
     ]
    }
   ],
   "source": [
    "# Avg Monthly Long Distance Charges (stayed & churned)\n",
    "print(d_stats(telco_csv['Avg Monthly Long Distance Charges'].loc[telco_csv['Customer Status'] == 'Stayed']))\n",
    "print(d_stats(telco_csv['Avg Monthly Long Distance Charges'].loc[telco_csv['Customer Status'] == 'Churned']))"
   ]
  },
  {
   "cell_type": "code",
   "execution_count": 109,
   "metadata": {},
   "outputs": [
    {
     "name": "stdout",
     "output_type": "stream",
     "text": [
      "{'min': 0.0, 'max': 85.0, 'mean': 20.362076271186442, 'median': 16.0, 'mode': 0, 'std_dev': 21.15914235709179}\n",
      "{'min': 0.0, 'max': 85.0, 'mean': 22.17549491706795, 'median': 19, 'mode': 0, 'std_dev': 18.3091234916867}\n"
     ]
    }
   ],
   "source": [
    "# Avg Monthly GB Download (stayed & churned)\n",
    "print(d_stats(telco_csv['Avg Monthly GB Download'].loc[telco_csv['Customer Status'] == 'Stayed']))\n",
    "print(d_stats(telco_csv['Avg Monthly GB Download'].loc[telco_csv['Customer Status'] == 'Churned']))"
   ]
  },
  {
   "cell_type": "code",
   "execution_count": 111,
   "metadata": {},
   "outputs": [
    {
     "name": "stdout",
     "output_type": "stream",
     "text": [
      "{'min': 18.25, 'max': 118.75, 'mean': 62.97638771186442, 'median': 66.45, 'mode': 20.05, 'std_dev': 31.154053287132996}\n",
      "{'min': 18.85, 'max': 118.35, 'mean': 74.44133226324236, 'median': 79.65, 'mode': 74.4, 'std_dev': 24.666053259397433}\n"
     ]
    }
   ],
   "source": [
    "# Monthly Charge (stayed & churned)\n",
    "print(d_stats(telco_csv['Monthly Charge'].loc[telco_csv['Customer Status'] == 'Stayed']))\n",
    "print(d_stats(telco_csv['Monthly Charge'].loc[telco_csv['Customer Status'] == 'Churned']))"
   ]
  },
  {
   "cell_type": "code",
   "execution_count": 113,
   "metadata": {},
   "outputs": [
    {
     "name": "stdout",
     "output_type": "stream",
     "text": [
      "{'min': 55.7, 'max': 8672.45, 'mean': 2788.5168305084744, 'median': 1940.8249999999998, 'mode': 383.65, 'std_dev': 2302.5937251090445}\n",
      "{'min': 18.85, 'max': 8684.8, 'mean': 1531.7960941680042, 'median': 703.55, 'mode': 20.2, 'std_dev': 1890.822994464404}\n"
     ]
    }
   ],
   "source": [
    "# Total Charges (stayed & churned)\n",
    "print(d_stats(telco_csv['Total Charges'].loc[telco_csv['Customer Status'] == 'Stayed']))\n",
    "print(d_stats(telco_csv['Total Charges'].loc[telco_csv['Customer Status'] == 'Churned']))"
   ]
  },
  {
   "cell_type": "code",
   "execution_count": 114,
   "metadata": {},
   "outputs": [
    {
     "name": "stdout",
     "output_type": "stream",
     "text": [
      "{'min': 0.0, 'max': 49.79, 'mean': 2.303457627118644, 'median': 0.0, 'mode': 0.0, 'std_dev': 8.50649247790492}\n",
      "{'min': 0.0, 'max': 49.57, 'mean': 1.5189834135901554, 'median': 0.0, 'mode': 0.0, 'std_dev': 7.041631693742887}\n"
     ]
    }
   ],
   "source": [
    "# Total Refunds (stayed & churned)\n",
    "print(d_stats(telco_csv['Total Refunds'].loc[telco_csv['Customer Status'] == 'Stayed']))\n",
    "print(d_stats(telco_csv['Total Refunds'].loc[telco_csv['Customer Status'] == 'Churned']))"
   ]
  },
  {
   "cell_type": "code",
   "execution_count": 120,
   "metadata": {},
   "outputs": [
    {
     "name": "stdout",
     "output_type": "stream",
     "text": [
      "{'min': 0.0, 'max': 150.0, 'mean': 7.173728813559322, 'median': 0.0, 'mode': 0, 'std_dev': 26.170814600338314}\n",
      "{'min': 0.0, 'max': 150.0, 'mean': 7.158908507223114, 'median': 0, 'mode': 0, 'std_dev': 24.857342486024823}\n"
     ]
    }
   ],
   "source": [
    "# Total Extra Data Charges (stayed & churned)\n",
    "print(d_stats(telco_csv['Total Extra Data Charges'].loc[telco_csv['Customer Status'] == 'Stayed']))\n",
    "print(d_stats(telco_csv['Total Extra Data Charges'].loc[telco_csv['Customer Status'] == 'Churned']))"
   ]
  },
  {
   "cell_type": "code",
   "execution_count": 121,
   "metadata": {},
   "outputs": [
    {
     "name": "stdout",
     "output_type": "stream",
     "text": [
      "{'min': 0.0, 'max': 3564.72, 'mean': 942.2891949152543, 'median': 664.37, 'mode': 0.0, 'std_dev': 881.3973427030254}\n",
      "{'min': 0.0, 'max': 3508.82, 'mean': 433.9175494917068, 'median': 139.08, 'mode': 0.0, 'std_dev': 650.3583023707941}\n"
     ]
    }
   ],
   "source": [
    "# Total Long Distance Charges (stayed & churned)\n",
    "print(d_stats(telco_csv['Total Long Distance Charges'].loc[telco_csv['Customer Status'] == 'Stayed']))\n",
    "print(d_stats(telco_csv['Total Long Distance Charges'].loc[telco_csv['Customer Status'] == 'Churned']))"
   ]
  },
  {
   "cell_type": "code",
   "execution_count": 122,
   "metadata": {},
   "outputs": [
    {
     "name": "stdout",
     "output_type": "stream",
     "text": [
      "{'min': 73.65, 'max': 11979.34, 'mean': 3735.6762966101696, 'median': 2960.1099999999997, 'mode': 343.68, 'std_dev': 2852.9387451316243}\n",
      "{'min': 21.61, 'max': 11195.44, 'mean': 1971.353568753344, 'median': 893.55, 'mode': 24.8, 'std_dev': 2438.4418133014583}\n"
     ]
    }
   ],
   "source": [
    "# Total Revenue (stayed & churned)\n",
    "print(d_stats(telco_csv['Total Revenue'].loc[telco_csv['Customer Status'] == 'Stayed']))\n",
    "print(d_stats(telco_csv['Total Revenue'].loc[telco_csv['Customer Status'] == 'Churned']))"
   ]
  }
 ],
 "metadata": {
  "kernelspec": {
   "display_name": "Python 3",
   "language": "python",
   "name": "python3"
  },
  "language_info": {
   "codemirror_mode": {
    "name": "ipython",
    "version": 3
   },
   "file_extension": ".py",
   "mimetype": "text/x-python",
   "name": "python",
   "nbconvert_exporter": "python",
   "pygments_lexer": "ipython3",
   "version": "3.12.4"
  }
 },
 "nbformat": 4,
 "nbformat_minor": 2
}
